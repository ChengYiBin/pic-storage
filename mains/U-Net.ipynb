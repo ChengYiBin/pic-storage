{
 "cells": [
  {
   "cell_type": "code",
   "execution_count": 1,
   "metadata": {
    "collapsed": true
   },
   "outputs": [],
   "source": [
    "import torch\n",
    "import torchvision"
   ]
  },
  {
   "cell_type": "code",
   "execution_count": 2,
   "metadata": {},
   "outputs": [
    {
     "data": {
      "text/plain": [
       "True"
      ]
     },
     "execution_count": 2,
     "metadata": {},
     "output_type": "execute_result"
    }
   ],
   "source": [
    "use_cuda = torch.cuda.is_available()\n",
    "use_cuda"
   ]
  },
  {
   "cell_type": "code",
   "execution_count": 3,
   "metadata": {
    "collapsed": true
   },
   "outputs": [],
   "source": [
    "import torch.nn as nn"
   ]
  },
  {
   "cell_type": "markdown",
   "metadata": {},
   "source": [
    "# 定义网络"
   ]
  },
  {
   "cell_type": "code",
   "execution_count": 4,
   "metadata": {
    "collapsed": true
   },
   "outputs": [],
   "source": [
    "class UNet(nn.Module):\n",
    "    def __init__(self, in_channels, out_channels):\n",
    "        super(UNet, self).__init__()\n",
    "        self.layer_1 = Conv3(in_channels, 64)\n",
    "        self.layer_2 = Conv3(64, 128)\n",
    "        self.layer_3 = Conv3(128, 256)\n",
    "        self.layer_4 = Conv3(256, 512)\n",
    "        self.layer_5 = Conv3(512, 1024)\n",
    "        self.maxpool = nn.MaxPool2d(2)\n",
    "        self.layer_4_up = UpConv(1024, 512)\n",
    "        self.layer_3_up = UpConv(512, 256)\n",
    "        self.layer_2_up = UpConv(256, 128)\n",
    "        self.layer_1_up = UpConv(128, 64)\n",
    "        self.conv1 = nn.Conv2d(64, out_channels, 1)\n",
    "    \n",
    "    def forward(self, x):\n",
    "        x1 = self.layer_1(x)\n",
    "        x2 = self.maxpool(x1)\n",
    "        x2 = self.layer_2(x2)\n",
    "        x3 = self.maxpool(x2)\n",
    "        x3 = self.layer_3(x3)\n",
    "        x4 = self.maxpool(x3)\n",
    "        x4 = self.layer_4(x4)\n",
    "        x5 = self.maxpool(x4)\n",
    "        x5 = self.layer_5(x5)\n",
    "        \n",
    "        x = self.layer_4_up(x5, x4)\n",
    "        x = self.layer_3_up(x, x3)\n",
    "        x = self.layer_2_up(x, x2)\n",
    "        x = self.layer_1_up(x, x1)\n",
    "        x = self.conv1(x)\n",
    "        return torch.sigmoid(x)\n",
    "\n",
    "\n",
    "class Conv3(nn.Module):\n",
    "    \"\"\"\n",
    "    each conv3 op consist (Conv2d, ReLU)*2\n",
    "    \"\"\"\n",
    "    def __init__(self, in_channels, out_channels):\n",
    "        super(Conv3, self).__init__()\n",
    "        self.op = nn.Sequential(\n",
    "            nn.Conv2d(in_channels, out_channels, 3, padding=1), # padding so size don't change\n",
    "            nn.BatchNorm2d(out_channels), # add BN for stabling training\n",
    "            nn.ReLU(inplace=True),\n",
    "            nn.Conv2d(out_channels, out_channels, 3, padding=1),\n",
    "            nn.BatchNorm2d(out_channels),\n",
    "            nn.ReLU(inplace=True)\n",
    "        )\n",
    "    \n",
    "    def forward(self, x):\n",
    "        x = self.op(x)\n",
    "        return x\n",
    "\n",
    "class UpConv(nn.Module):\n",
    "    def __init__(self, in_channels, out_channels):\n",
    "        super(UpConv, self).__init__()\n",
    "        self.up = nn.ConvTranspose2d(in_channels, in_channels // 2, 2, stride=2)\n",
    "        self.conv = Conv3(in_channels, out_channels)\n",
    "        \n",
    "    def forward(self, x1, x2):\n",
    "        x1 = self.up(x1)\n",
    "        # x2.resize_(x1.size()) # crop ?\n",
    "        x = torch.cat([x2, x1], dim=1) # dim=1 means cat in channels\n",
    "        x = self.conv(x)\n",
    "        return x\n",
    "        "
   ]
  },
  {
   "cell_type": "code",
   "execution_count": 5,
   "metadata": {
    "collapsed": true
   },
   "outputs": [],
   "source": [
    "from PIL import Image\n",
    "import numpy as np\n",
    "import matplotlib.pyplot as plt\n",
    "import os\n",
    "\n",
    "%matplotlib inline"
   ]
  },
  {
   "cell_type": "code",
   "execution_count": 6,
   "metadata": {},
   "outputs": [
    {
     "name": "stdout",
     "output_type": "stream",
     "text": [
      "/home/cyb/Code/unet-master\r\n"
     ]
    }
   ],
   "source": [
    "!pwd"
   ]
  },
  {
   "cell_type": "markdown",
   "metadata": {},
   "source": [
    "# 加载数据"
   ]
  },
  {
   "cell_type": "code",
   "execution_count": 6,
   "metadata": {
    "collapsed": true
   },
   "outputs": [],
   "source": [
    "img_dir = './data/membrane/train/image'\n",
    "label_dir = './data/membrane/train/label'"
   ]
  },
  {
   "cell_type": "code",
   "execution_count": 7,
   "metadata": {},
   "outputs": [
    {
     "data": {
      "image/png": "[encoded data removed]",
      "text/plain": [
       "<PIL.PngImagePlugin.PngImageFile image mode=L size=512x512 at 0x7F8C61B982E8>"
      ]
     },
     "execution_count": 7,
     "metadata": {},
     "output_type": "execute_result"
    }
   ],
   "source": [
    "sample = Image.open(os.path.join(img_dir, '0.png'))\n",
    "label = Image.open(os.path.join(label_dir, '0.png'))\n",
    "label"
   ]
  },
  {
   "cell_type": "code",
   "execution_count": 8,
   "metadata": {},
   "outputs": [
    {
     "data": {
      "text/plain": [
       "array([[False, False, False, ..., False, False, False],\n",
       "       [False, False, False, ..., False, False, False],\n",
       "       [False, False, False, ..., False, False, False],\n",
       "       ...,\n",
       "       [False, False, False, ..., False, False, False],\n",
       "       [False, False, False, ..., False, False, False],\n",
       "       [False, False, False, ..., False, False, False]])"
      ]
     },
     "execution_count": 8,
     "metadata": {},
     "output_type": "execute_result"
    }
   ],
   "source": [
    "label_mask = np.array(label) == 0\n",
    "label_mask"
   ]
  },
  {
   "cell_type": "code",
   "execution_count": 9,
   "metadata": {
    "collapsed": true
   },
   "outputs": [],
   "source": [
    "from torchvision import datasets"
   ]
  },
  {
   "cell_type": "markdown",
   "metadata": {},
   "source": [
    "## 先储存为numpy数组"
   ]
  },
  {
   "cell_type": "code",
   "execution_count": 20,
   "metadata": {},
   "outputs": [
    {
     "data": {
      "text/plain": [
       "array([[156., 185., 201., ..., 165., 162., 160.],\n",
       "       [164., 201., 206., ..., 146., 141., 150.],\n",
       "       [174., 196., 208., ..., 147., 159., 160.],\n",
       "       ...,\n",
       "       [164., 163., 178., ..., 248., 252., 246.],\n",
       "       [164., 162., 187., ..., 250., 254., 249.],\n",
       "       [177., 175., 200., ..., 252., 252., 251.]], dtype=float32)"
      ]
     },
     "execution_count": 20,
     "metadata": {},
     "output_type": "execute_result"
    }
   ],
   "source": [
    "img_file_name = os.listdir(img_dir)\n",
    "train_data = [Image.open(os.path.join(img_dir, f)) for f in img_file_name]\n",
    "train_data = [np.array(data) for data in train_data] # a list of numpy array\n",
    "train_data = np.array(train_data, dtype=np.float32)\n",
    "# train_data.shape : (30, 512, 512)\n",
    "train_data[0]"
   ]
  },
  {
   "cell_type": "code",
   "execution_count": 11,
   "metadata": {},
   "outputs": [
    {
     "data": {
      "text/plain": [
       "array([[0., 0., 0., ..., 0., 0., 0.],\n",
       "       [0., 0., 0., ..., 0., 0., 0.],\n",
       "       [0., 0., 0., ..., 0., 0., 0.],\n",
       "       ...,\n",
       "       [0., 0., 0., ..., 0., 0., 0.],\n",
       "       [0., 0., 0., ..., 0., 0., 0.],\n",
       "       [0., 0., 0., ..., 0., 0., 0.]], dtype=float32)"
      ]
     },
     "execution_count": 11,
     "metadata": {},
     "output_type": "execute_result"
    }
   ],
   "source": [
    "label_file_name = os.listdir(img_dir)\n",
    "labels = [Image.open(os.path.join(label_dir, f)) for f in label_file_name]\n",
    "labels = [np.array(data) for data in labels]\n",
    "labels = np.array(labels)\n",
    "labels_mask = labels == 0\n",
    "labels_mask = labels_mask.astype(np.float32)\n",
    "labels_mask[0]"
   ]
  },
  {
   "cell_type": "code",
   "execution_count": 12,
   "metadata": {
    "collapsed": true
   },
   "outputs": [],
   "source": [
    "from torch import optim"
   ]
  },
  {
   "cell_type": "code",
   "execution_count": 13,
   "metadata": {},
   "outputs": [
    {
     "data": {
      "text/plain": [
       "((512, 512), (512, 512))"
      ]
     },
     "execution_count": 13,
     "metadata": {},
     "output_type": "execute_result"
    }
   ],
   "source": [
    "train_data[0].shape, labels_mask[0].shape"
   ]
  },
  {
   "cell_type": "markdown",
   "metadata": {},
   "source": [
    "# 训练"
   ]
  },
  {
   "cell_type": "code",
   "execution_count": 17,
   "metadata": {},
   "outputs": [
    {
     "name": "stdout",
     "output_type": "stream",
     "text": [
      "epoch 0\n",
      "loss: 0.6828, acc: 0.5720\n",
      "loss: 0.5965, acc: 0.8102\n",
      "loss: 0.5655, acc: 0.7795\n",
      "loss: 0.5246, acc: 0.8202\n",
      "loss: 0.4916, acc: 0.8301\n",
      "loss: 0.4582, acc: 0.8517\n",
      "loss: 0.4637, acc: 0.8194\n",
      "loss: 0.4541, acc: 0.8052\n",
      "loss: 0.4324, acc: 0.8206\n",
      "loss: 0.4006, acc: 0.8614\n",
      "loss: 0.3948, acc: 0.8552\n",
      "loss: 0.3983, acc: 0.8328\n",
      "loss: 0.3786, acc: 0.8418\n",
      "loss: 0.3733, acc: 0.8530\n",
      "loss: 0.3635, acc: 0.8584\n",
      "loss: 0.3728, acc: 0.8348\n",
      "loss: 0.3925, acc: 0.8215\n",
      "loss: 0.3683, acc: 0.8342\n",
      "loss: 0.3765, acc: 0.8279\n",
      "loss: 0.3729, acc: 0.8196\n",
      "loss: 0.3485, acc: 0.8506\n",
      "loss: 0.3427, acc: 0.8517\n",
      "loss: 0.3380, acc: 0.8609\n",
      "loss: 0.3148, acc: 0.8681\n",
      "loss: 0.3432, acc: 0.8458\n",
      "loss: 0.3168, acc: 0.8713\n",
      "loss: 0.3004, acc: 0.8869\n",
      "loss: 0.3167, acc: 0.8583\n",
      "loss: 0.3097, acc: 0.8699\n",
      "loss: 0.3244, acc: 0.8594\n",
      "epoch 1\n",
      "loss: 0.3067, acc: 0.8719\n",
      "loss: 0.3148, acc: 0.8647\n",
      "loss: 0.2929, acc: 0.8805\n",
      "loss: 0.3609, acc: 0.8292\n",
      "loss: 0.3068, acc: 0.8711\n",
      "loss: 0.3169, acc: 0.8557\n",
      "loss: 0.2885, acc: 0.8785\n",
      "loss: 0.3047, acc: 0.8720\n",
      "loss: 0.3020, acc: 0.8725\n",
      "loss: 0.2916, acc: 0.8788\n",
      "loss: 0.2936, acc: 0.8800\n",
      "loss: 0.2843, acc: 0.8787\n",
      "loss: 0.3061, acc: 0.8657\n",
      "loss: 0.2953, acc: 0.8705\n",
      "loss: 0.2859, acc: 0.8800\n",
      "loss: 0.2733, acc: 0.8904\n",
      "loss: 0.2575, acc: 0.8964\n",
      "loss: 0.2611, acc: 0.8898\n",
      "loss: 0.2821, acc: 0.8809\n",
      "loss: 0.2711, acc: 0.8871\n",
      "loss: 0.2717, acc: 0.8864\n",
      "loss: 0.3161, acc: 0.8543\n",
      "loss: 0.2480, acc: 0.8954\n",
      "loss: 0.2788, acc: 0.8742\n",
      "loss: 0.2582, acc: 0.8906\n",
      "loss: 0.2620, acc: 0.8880\n",
      "loss: 0.2587, acc: 0.8935\n",
      "loss: 0.2986, acc: 0.8626\n",
      "loss: 0.2708, acc: 0.8731\n",
      "loss: 0.2625, acc: 0.8882\n",
      "epoch 2\n",
      "loss: 0.2576, acc: 0.8912\n",
      "loss: 0.2570, acc: 0.8885\n",
      "loss: 0.2676, acc: 0.8839\n",
      "loss: 0.2591, acc: 0.8918\n",
      "loss: 0.2590, acc: 0.8919\n",
      "loss: 0.2465, acc: 0.8936\n",
      "loss: 0.2367, acc: 0.9012\n",
      "loss: 0.2314, acc: 0.9045\n",
      "loss: 0.2295, acc: 0.9073\n",
      "loss: 0.2481, acc: 0.8952\n",
      "loss: 0.2588, acc: 0.8886\n",
      "loss: 0.2437, acc: 0.8944\n",
      "loss: 0.3314, acc: 0.8496\n",
      "loss: 0.2221, acc: 0.9072\n",
      "loss: 0.2537, acc: 0.8950\n",
      "loss: 0.2366, acc: 0.8957\n",
      "loss: 0.2357, acc: 0.9002\n",
      "loss: 0.2730, acc: 0.8688\n",
      "loss: 0.3061, acc: 0.8544\n",
      "loss: 0.2397, acc: 0.8929\n",
      "loss: 0.2392, acc: 0.8964\n",
      "loss: 0.2315, acc: 0.9065\n",
      "loss: 0.2562, acc: 0.8808\n",
      "loss: 0.2388, acc: 0.8936\n",
      "loss: 0.2214, acc: 0.9049\n",
      "loss: 0.2284, acc: 0.9043\n",
      "loss: 0.2254, acc: 0.9072\n",
      "loss: 0.2577, acc: 0.8850\n",
      "loss: 0.2777, acc: 0.8698\n",
      "loss: 0.2511, acc: 0.8893\n",
      "epoch 3\n",
      "loss: 0.2454, acc: 0.8925\n",
      "loss: 0.2350, acc: 0.8910\n",
      "loss: 0.2393, acc: 0.8908\n",
      "loss: 0.2222, acc: 0.9014\n",
      "loss: 0.1956, acc: 0.9201\n",
      "loss: 0.2221, acc: 0.9107\n",
      "loss: 0.2093, acc: 0.9142\n",
      "loss: 0.2355, acc: 0.8992\n",
      "loss: 0.2624, acc: 0.8801\n",
      "loss: 0.2139, acc: 0.9083\n",
      "loss: 0.2164, acc: 0.9056\n",
      "loss: 0.2239, acc: 0.9064\n",
      "loss: 0.2730, acc: 0.8739\n",
      "loss: 0.2179, acc: 0.9115\n",
      "loss: 0.2178, acc: 0.9092\n",
      "loss: 0.2242, acc: 0.9037\n",
      "loss: 0.2263, acc: 0.9054\n",
      "loss: 0.2083, acc: 0.9193\n",
      "loss: 0.2217, acc: 0.9029\n",
      "loss: 0.2209, acc: 0.9068\n",
      "loss: 0.2323, acc: 0.8960\n",
      "loss: 0.2326, acc: 0.9001\n",
      "loss: 0.2508, acc: 0.8932\n",
      "loss: 0.2330, acc: 0.8921\n",
      "loss: 0.2129, acc: 0.9100\n",
      "loss: 0.2209, acc: 0.9053\n",
      "loss: 0.2208, acc: 0.9111\n",
      "loss: 0.1932, acc: 0.9193\n",
      "loss: 0.3029, acc: 0.8639\n",
      "loss: 0.2327, acc: 0.9028\n",
      "epoch 4\n",
      "loss: 0.2144, acc: 0.9088\n",
      "loss: 0.2070, acc: 0.9126\n",
      "loss: 0.2200, acc: 0.9097\n",
      "loss: 0.1947, acc: 0.9216\n",
      "loss: 0.2117, acc: 0.9112\n",
      "loss: 0.1761, acc: 0.9292\n",
      "loss: 0.2057, acc: 0.9133\n",
      "loss: 0.2213, acc: 0.9027\n",
      "loss: 0.2208, acc: 0.9040\n",
      "loss: 0.2339, acc: 0.9015\n",
      "loss: 0.2099, acc: 0.9087\n",
      "loss: 0.1853, acc: 0.9208\n",
      "loss: 0.1957, acc: 0.9147\n",
      "loss: 0.2219, acc: 0.9016\n",
      "loss: 0.2435, acc: 0.8912\n",
      "loss: 0.2153, acc: 0.9111\n",
      "loss: 0.1995, acc: 0.9158\n",
      "loss: 0.2667, acc: 0.8784\n",
      "loss: 0.2184, acc: 0.9072\n",
      "loss: 0.2046, acc: 0.9131\n",
      "loss: 0.3198, acc: 0.8655\n",
      "loss: 0.2169, acc: 0.9123\n",
      "loss: 0.2522, acc: 0.8764\n",
      "loss: 0.2138, acc: 0.9135\n",
      "loss: 0.2095, acc: 0.9110\n",
      "loss: 0.2137, acc: 0.9084\n",
      "loss: 0.2117, acc: 0.9053\n",
      "loss: 0.1943, acc: 0.9223\n",
      "loss: 0.1894, acc: 0.9179\n",
      "loss: 0.2161, acc: 0.9046\n"
     ]
    }
   ],
   "source": [
    "epochs = 5\n",
    "lr = 0.1\n",
    "model = UNet(in_channels=1, out_channels=1)\n",
    "if use_cuda:\n",
    "    model = model.cuda()\n",
    "\n",
    "optimizer = optim.SGD(model.parameters(), lr=lr, momentum=0.1, weight_decay=5e-4)\n",
    "loss_fn = nn.BCELoss(reduction='mean')\n",
    "\n",
    "H, W = train_data[0].shape\n",
    "\n",
    "model.train()\n",
    "for epoch in range(epochs):\n",
    "    inds = torch.randperm(len(train_data))\n",
    "    print('epoch {}'.format(epoch))\n",
    "    for idx in inds:\n",
    "        data = torch.from_numpy(train_data[idx]).view(1, 1, H, W)\n",
    "        mask = torch.from_numpy(labels_mask[idx])\n",
    "        \n",
    "        if use_cuda:\n",
    "            data = data.cuda()\n",
    "            mask = mask.cuda()\n",
    "        pred = model(data)\n",
    "        pred = pred.view(-1)\n",
    "        mask = mask.view(-1)\n",
    "        # print(mask.dtype, mask[:5])\n",
    "        loss = loss_fn(pred, mask)\n",
    "        \n",
    "        optimizer.zero_grad()\n",
    "        loss.backward()\n",
    "        optimizer.step()\n",
    "        pred_mask = pred > 0.5\n",
    "        acc = torch.sum(pred_mask == mask.byte()).item() / len(pred_mask)\n",
    "        print('loss: {:.4f}, acc: {:.4f}'.format(loss, acc))"
   ]
  },
  {
   "cell_type": "markdown",
   "metadata": {},
   "source": [
    "# 预测"
   ]
  },
  {
   "cell_type": "code",
   "execution_count": 19,
   "metadata": {},
   "outputs": [
    {
     "name": "stdout",
     "output_type": "stream",
     "text": [
      "(512, 512)\n"
     ]
    },
    {
     "data": {
      "text/plain": [
       "<matplotlib.image.AxesImage at 0x7f8c5f47ab70>"
      ]
     },
     "execution_count": 19,
     "metadata": {},
     "output_type": "execute_result"
    },
    {
     "data": {
      "image/png": "[encoded data removed]",
      "text/plain": [
       "<Figure size 432x288 with 1 Axes>"
      ]
     },
     "metadata": {},
     "output_type": "display_data"
    }
   ],
   "source": [
    "model.eval()\n",
    "model = model.cpu()\n",
    "test_sample = Image.open('./data/membrane/test/0.png')\n",
    "plt.imshow(test_sample)\n",
    "test_sample = np.array(test_sample, dtype=np.float32)\n",
    "test_sample = torch.from_numpy(test_sample)\n",
    "test_sample = test_sample.view(1, -1, 512, 512)\n",
    "pred = model(test_sample)\n",
    "pred_mask = pred > 0.5\n",
    "pred_img = pred_mask.squeeze().numpy()\n",
    "print(pred_img.shape)\n",
    "mask = pred_img == 1\n",
    "pred_img[mask] = 0\n",
    "pred_img[~mask] = 255\n",
    "plt.imshow(pred_img, cmap=plt.cm.gray)"
   ]
  },
  {
   "cell_type": "markdown",
   "metadata": {},
   "source": [
    "# 对比别人的预测"
   ]
  },
  {
   "cell_type": "code",
   "execution_count": 21,
   "metadata": {},
   "outputs": [
    {
     "data": {
      "image/png": "[encoded data removed]",
      "text/plain": [
       "<PIL.PngImagePlugin.PngImageFile image mode=I size=256x256 at 0x7F8C61ABFEF0>"
      ]
     },
     "execution_count": 21,
     "metadata": {},
     "output_type": "execute_result"
    }
   ],
   "source": [
    "test_result = Image.open('./data/membrane/test/0_predict.png')\n",
    "test_result"
   ]
  }
 ],
 "metadata": {
  "kernelspec": {
   "display_name": "Python [conda env:pytorch]",
   "language": "python",
   "name": "conda-env-pytorch-py"
  },
  "language_info": {
   "codemirror_mode": {
    "name": "ipython",
    "version": 3
   },
   "file_extension": ".py",
   "mimetype": "text/x-python",
   "name": "python",
   "nbconvert_exporter": "python",
   "pygments_lexer": "ipython3",
   "version": "3.6.2"
  }
 },
 "nbformat": 4,
 "nbformat_minor": 2
}
